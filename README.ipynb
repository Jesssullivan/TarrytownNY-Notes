{
 "cells": [
  {
   "cell_type": "markdown",
   "id": "768be2ab-6d69-4c54-a9ab-3bd7cbecb83b",
   "metadata": {},
   "source": [
    "# Efficiently construct a 3d printable topographic relief with municipal features\n",
    "\n",
    "***Jess's Tarrytown NY model notes***\n"
   ]
  },
  {
   "cell_type": "markdown",
   "source": [
    "<table>\n",
    "  <tr>\n",
    "    <img src=\"assets/images/qgis_cap2.png\"/>\n",
    "  </tr>\n",
    "  <td>\n",
    "     <img src=\"assets/images/PedestalOutput.png\"/>\n",
    "  </tr>\n",
    "</table>"
   ],
   "metadata": {
    "collapsed": false
   }
  },
  {
   "cell_type": "markdown",
   "source": [
    "In this quick example, I am working primarily only with free with open source software complied from source for my linux distribution.  While this ensures everything discussed here is available and repeatable by anyone, working from anywhere, on just about any operating system this flavor of GIS can feel daunting at first.  Because this genre of geospatial modeling represents such a significant part of work taking place at the DLA Makerspace, I intend to build out documentation and workshop curricula focused on this task using a variety of approaches and tools.\n",
    "\n",
    "\n",
    "#####  Discreet software packages and projects compiled individually for this environment:\n",
    "\n",
    "|Software| Version             |\n",
    "|---|---------------------|\n",
    "|protobuf| 3.19.1              |\n",
    "|PROJ version| 9.0.1               |\n",
    "|GDAL/OGR version| 3.4.3               |\n",
    "|QGIS version | 3.26.2-Buenos Aires |\n",
    "|QGIS branch| Release 3.26        |\n",
    "|Qt version| 5.12.8              |\n",
    "|GEOS version| 3.10.2-CAPI-1.16.0  |\n",
    "|QScintilla2 version| 2.11.2              |\n",
    "|Python version| 3.8.10              |\n",
    "|Operating System| Ubuntu 20.04.5 LTS  |\n",
    "|Desktop Environment| Budgie GTK+         |\n",
    "|Windowing system| X11                 |\n",
    "\n"
   ],
   "metadata": {
    "collapsed": false
   }
  },
  {
   "cell_type": "markdown",
   "source": [
    "##### Munging missing footprint data:\n",
    "\n",
    "Ilana, YuAng and I noticed a large chunk of Tarrytown's municipal footprint data is inexplicably missing or incorrect from common OSM CDNs and vector tile servers.  This data is unfortunately missing from the Nextzen tile servers as well, so we'll use Microsoft's footprints classified using public orthoimagery."
   ],
   "metadata": {
    "collapsed": false,
    "pycharm": {
     "name": "#%% md\n"
    }
   }
  },
  {
   "cell_type": "markdown",
   "source": [
    "##### First, lets grab a copy of these footprints:\n",
    "```shell\n",
    "wget https://usbuildingdata.blob.core.windows.net/usbuildings-v2/NewYork.geojson.zip -d ./assets/vector/\n",
    "unzip assets/vector/NewYork.geojson.zip\n",
    "```"
   ],
   "metadata": {
    "collapsed": false
   }
  },
  {
   "cell_type": "markdown",
   "source": [
    "##### We'll rely on tile data available via the Nextzen tile servers for roads and topography.\n",
    "\n",
    "Let's interact with these servers with using the nifty vectiler CLI.\n",
    "```shell\n",
    "# grab a copy of the vectiler interface:\n",
    "git clone https://github.com/Jesssullivan/vectiler --depth=1\n",
    "cd vectiler\n",
    "git submodule update --init --recursive\n",
    "\n",
    "# make sure toolchain depends are installed:\n",
    "sudo add-apt-repository ppa:ubuntu-toolchain-r/test\n",
    "sudo apt-get update\n",
    "sudo apt-get install cmake libcurl4-openssl-dev # built in g++ should be fine\n",
    "```"
   ],
   "metadata": {
    "collapsed": false
   }
  },
  {
   "cell_type": "markdown",
   "source": [
    "#### Now lets build vectiler:\n",
    "```shell\n",
    "cmake . -Bbuild\n",
    "cmake --build build\n",
    "\n",
    "# copy the executable from the build directory:\n",
    "cp build/vectiler.out vectiler\n",
    "chmod +x vectiler\n",
    "```"
   ],
   "metadata": {
    "collapsed": false
   }
  },
  {
   "cell_type": "markdown",
   "source": [
    "##### Construct and execute a nextzen query for Tarrytown, NY:\n",
    "```\n",
    "# Builds 9659.12274.15.obj:\n",
    "./vectiler --tilex 9659/9661 --tiley 12274/12278 --tilez 15 --terrain 1 --roads 1 --terrainExtrusionScale 1 --pedestal 1 --pedestalHeight -20\n",
    "```\n"
   ],
   "metadata": {
    "collapsed": false,
    "pycharm": {
     "name": "#%% md\n"
    }
   }
  },
  {
   "cell_type": "markdown",
   "source": [
    "Taking a look at Tarrytown at the resolution of the DEM data publicly available to us (level `15` using Google's map tile coordinates), the ROI is:\n",
    "\n",
    "##### Upper left tile {x,y}:\n",
    "**Google:** `9659/12274`\n",
    "Upper left convex point:\n",
    "**WSG84:** `-73.88305400`, `41.09591200`\n",
    "\n",
    "##### Lower right tile:\n",
    "**Google:** `9661/12278`\n",
    "Lower right convex point:\n",
    "**WSG84:** `-73.85009500`, `41.05450200`\n",
    "\n",
    "\n",
    "We can take a look at these tile extents [superimposed over Terrytown's OSM default map here](https://www.maptiler.com/google-maps-coordinates-tile-bounds-projection/#13/-73.85/41.07).\n"
   ],
   "metadata": {
    "collapsed": false,
    "pycharm": {
     "name": "#%% md\n"
    }
   }
  },
  {
   "cell_type": "markdown",
   "source": [
    "##### Using the WSG84 convex point coordinates above, we can now hop into QGIS.\n",
    "\n",
    "We add these two points and create a bounding box using the points as the diagonal extents as shapefiles.  We can then use this bounding box both to limit the rendering extents (there are *a lot* of houses in New York!) and clip the footprints geojson file.  These clipped footprints are can now be exported in place as a DXF."
   ],
   "metadata": {
    "collapsed": false
   }
  },
  {
   "cell_type": "markdown",
   "source": [
    "##### I then convert the resulting DXF to Inkscape SVG; this is not strictly necessary."
   ],
   "metadata": {
    "collapsed": false
   }
  },
  {
   "cell_type": "markdown",
   "source": [
    "##### We can now extrude the clipped footprints using OpenSCAD:\n",
    "\n",
    "```\n",
    "# ./assets/vector/ExtrudeFootprints.scad\n",
    "linear_extrude(height = 20)\n",
    "import (file =\"ClippedFootprints.svg\");\n",
    "```"
   ],
   "metadata": {
    "collapsed": false
   }
  },
  {
   "cell_type": "markdown",
   "source": [
    "##### We now just need to merge our footprint extrusions with the terrain and road data.\n",
    "\n",
    "To simplify this process, I first preform a plane cut, simplification remesh and solidify operations in autodesk Meshmixer and exaggerate the Z scale by a factor of 2.  From there, we preform a union between the footprint extrusions and terrain mesh.  I then create an inverted solid from the terrain mesh a few ~5mm above the original to clip roof heights.\n",
    "\n",
    "<table>\n",
    "  <tr>\n",
    "    <img src=\"assets/images/remesh_solidify_cap1.png\"/>\n",
    "  </tr>\n",
    "  <td>\n",
    "     <img src=\"assets/images/merge_mix.png\"/>\n",
    "  </tr>\n",
    "  <td>\n",
    "    <img src=\"assets/images/view_merge.png\"/>\n",
    "  </tr>\n",
    "</table>"
   ],
   "metadata": {
    "collapsed": false
   }
  },
  {
   "cell_type": "markdown",
   "source": [
    "##### Let's take a moment to consider our scale prior to the creation of a pedestal:"
   ],
   "metadata": {
    "collapsed": false
   }
  },
  {
   "cell_type": "code",
   "execution_count": 47,
   "outputs": [
    {
     "name": "stdout",
     "output_type": "stream",
     "text": [
      "ROI extent is 3669000mm wide and ~3669000mm long (using spherical mercator values!)\n",
      "\n",
      "The printed model will be 366.9 mm wide on the short side at 10000:1 in millimeters\n"
     ]
    }
   ],
   "source": [
    "## calculate model scale prior to the creation of a pedestal --> slice --> print\n",
    "\n",
    "# Spherical Mercator X google tile values @ 15\n",
    "sm_XA = 8224624\n",
    "sm_XB = 8220955\n",
    "\n",
    "# Spherical Mercator Y google tile values @ 15\n",
    "sm_YA = 5026499\n",
    "sm_YB = 5022830\n",
    "\n",
    "model_x_length_meters = sm_XA - sm_XB\n",
    "model_y_length_meters = sm_YA - sm_YB\n",
    "\n",
    "assert model_x_length_meters == model_y_length_meters, \"This is not a square, check your projection\"\n",
    "\n",
    "print(\"ROI extent is %smm wide and ~%smm long (using spherical mercator values!)\" %\n",
    "      (model_x_length_meters*1000, model_y_length_meters*1000))\n",
    "\n",
    "# if we wanted this model to be printed no larger than 500mm on the short side:\n",
    "model_x_length_mm = model_x_length_meters * 1000\n",
    "print(\"\\nThe printed model will be %s mm wide on the short side at 10000:1 in millimeters\" % (model_x_length_mm / 10000).__str__())"
   ],
   "metadata": {
    "collapsed": false,
    "pycharm": {
     "name": "#%%\n"
    }
   }
  },
  {
   "cell_type": "markdown",
   "source": [
    "#### We can now add a small pedestal and get ready to slice!"
   ],
   "metadata": {
    "collapsed": false,
    "pycharm": {
     "name": "#%% md\n"
    }
   }
  },
  {
   "cell_type": "markdown",
   "source": [],
   "metadata": {
    "collapsed": false,
    "pycharm": {
     "name": "#%% md\n"
    }
   }
  }
 ],
 "metadata": {
  "kernelspec": {
   "display_name": "Python 3 (ipykernel)",
   "language": "python",
   "name": "python3"
  },
  "language_info": {
   "codemirror_mode": {
    "name": "ipython",
    "version": 3
   },
   "file_extension": ".py",
   "mimetype": "text/x-python",
   "name": "python",
   "nbconvert_exporter": "python",
   "pygments_lexer": "ipython3",
   "version": "3.9.12"
  }
 },
 "nbformat": 4,
 "nbformat_minor": 5
}