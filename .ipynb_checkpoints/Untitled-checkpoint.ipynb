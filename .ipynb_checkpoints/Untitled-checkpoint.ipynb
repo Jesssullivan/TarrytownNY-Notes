{
 "cells": [
  {
   "cell_type": "markdown",
   "id": "768be2ab-6d69-4c54-a9ab-3bd7cbecb83b",
   "metadata": {},
   "source": [
    "# Efficiently construct a 3d printable topographic relief with municipal features"
   ]
  },
  {
   "cell_type": "markdown",
   "id": "55eb7f58-5deb-40f5-9db2-e112c641de10",
   "metadata": {},
   "source": [
    "### If time is of the essence "
   ]
  },
  {
   "cell_type": "code",
   "execution_count": null,
   "id": "03c83292-0c95-4482-abc8-9011ab823399",
   "metadata": {},
   "outputs": [],
   "source": []
  }
 ],
 "metadata": {
  "kernelspec": {
   "display_name": "Python 3 (ipykernel)",
   "language": "python",
   "name": "python3"
  },
  "language_info": {
   "codemirror_mode": {
    "name": "ipython",
    "version": 3
   },
   "file_extension": ".py",
   "mimetype": "text/x-python",
   "name": "python",
   "nbconvert_exporter": "python",
   "pygments_lexer": "ipython3",
   "version": "3.9.12"
  }
 },
 "nbformat": 4,
 "nbformat_minor": 5
}
